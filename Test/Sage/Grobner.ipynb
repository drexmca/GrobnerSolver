{
 "cells": [
  {
   "cell_type": "code",
   "execution_count": 3,
   "metadata": {
    "collapsed": false
   },
   "outputs": [
    {
     "name": "stdout",
     "output_type": "stream",
     "text": [
      "(-2*x + y, 2*x*y + 1) => -1/2*y^2 - 1/2\n",
      "G: set([-2*x + y, -1/2*y^2 - 1/2, 2*x*y + 1])\n",
      "\n",
      "(2*x*y + 1, -2*x + y) => 0\n",
      "G: set([-2*x + y, -1/2*y^2 - 1/2, 2*x*y + 1])\n",
      "\n",
      "(2*x*y + 1, -1/2*y^2 - 1/2) => 0\n",
      "G: set([-2*x + y, -1/2*y^2 - 1/2, 2*x*y + 1])\n",
      "\n",
      "(-2*x + y, -1/2*y^2 - 1/2) => 0\n",
      "G: set([-2*x + y, -1/2*y^2 - 1/2, 2*x*y + 1])\n",
      "\n",
      "3 reductions to zero.\n"
     ]
    },
    {
     "data": {
      "text/plain": [
       "[-2*x + y, -1/2*y^2 - 1/2, 2*x*y + 1]"
      ]
     },
     "execution_count": 3,
     "metadata": {},
     "output_type": "execute_result"
    }
   ],
   "source": [
    "from sage.rings.polynomial.toy_buchberger import *\n",
    "x,y = QQ['x,y'].gens()\n",
    "I = ideal(y - 2*x, 1+2*x*y)\n",
    "\n",
    "B = I.groebner_basis()\n",
    "\n",
    "set_verbose(1)\n",
    "buchberger(I)\n"
   ]
  },
  {
   "cell_type": "code",
   "execution_count": 3,
   "metadata": {
    "collapsed": false
   },
   "outputs": [
    {
     "name": "stdout",
     "output_type": "stream",
     "text": [
      "('f0 lt', -2*x)\n",
      "('f1 lt', 2*x*y)\n",
      "x*y\n",
      "('s0', x*y - 1/2*y^2)\n",
      "('s1', x*y + 1/2)\n",
      "-1/2*y^2 - 1/2\n"
     ]
    }
   ],
   "source": [
    "P.<x,y > = PolynomialRing (QQ , order ='degrevlex')\n",
    "def s_calc(f0,f1,verbose=False):\n",
    "    print('f0 lt', f0.lt())\n",
    "    \n",
    "    print('f1 lt', f1.lt())\n",
    "    lcm = f0.lt().lcm(f1.lt())\n",
    "    lcm /= lcm.lc()\n",
    "    print(lcm)\n",
    "    #print(lcm)\n",
    "    #print(lcm//f0.lt()*f0)\n",
    "    #print(lcm//f1.lt()*f1)\n",
    "\n",
    "    s0 = lcm//f0.lt() * f0\n",
    "    s1 = lcm//f1.lt() * f1\n",
    "    print('s0', s0)\n",
    "    print('s1', s1)\n",
    "    if verbose:\n",
    "        \n",
    "        print(f0)\n",
    "        print(f1)\n",
    "        print(lcm)\n",
    "    s0 = lcm//f0.lt() * f0 \n",
    "    s1 = lcm//f1.lt() * f1\n",
    "    s = s0-s1\n",
    "    return s\n",
    "\n",
    "f0, f1 = y - 2*x, 1+2*x*y\n",
    "\n",
    "print(s_calc(f0,f1))\n",
    "\n",
    "\n",
    "I = ideal(f1, f0)\n",
    "B = I.groebner_basis()\n",
    "#print(B)\n",
    "\n"
   ]
  },
  {
   "cell_type": "code",
   "execution_count": 5,
   "metadata": {
    "collapsed": false
   },
   "outputs": [
    {
     "name": "stdout",
     "output_type": "stream",
     "text": [
      "(x*y - 2*y^2, 2*x*y + 1) => -4*y - 1/2\n",
      "G: set([-4*y - 1/2, y^2 - 2*y, x*y - 2*y^2, 2*x*y + 1])\n",
      "\n",
      "(2*x*y + 1, -4*y - 1/2) => -1/8*x + 1/2\n",
      "G: set([-4*y - 1/2, y^2 - 2*y, x*y - 2*y^2, 2*x*y + 1, -1/8*x + 1/2])\n",
      "\n",
      "(y^2 - 2*y, -4*y - 1/2) => 17/64\n",
      "G: set([x*y - 2*y^2, 2*x*y + 1, -4*y - 1/2, 17/64, -1/8*x + 1/2, y^2 - 2*y])\n",
      "\n",
      "(-1/8*x + 1/2, 17/64) => 0\n",
      "G: set([x*y - 2*y^2, 2*x*y + 1, -4*y - 1/2, 17/64, -1/8*x + 1/2, y^2 - 2*y])\n",
      "\n",
      "(-4*y - 1/2, 17/64) => 0\n",
      "G: set([x*y - 2*y^2, 2*x*y + 1, -4*y - 1/2, 17/64, -1/8*x + 1/2, y^2 - 2*y])\n",
      "\n",
      "(x*y - 2*y^2, -4*y - 1/2) => 0\n",
      "G: set([x*y - 2*y^2, 2*x*y + 1, -4*y - 1/2, 17/64, -1/8*x + 1/2, y^2 - 2*y])\n",
      "\n",
      "(-4*y - 1/2, -1/8*x + 1/2) => 0\n",
      "G: set([x*y - 2*y^2, 2*x*y + 1, -4*y - 1/2, 17/64, -1/8*x + 1/2, y^2 - 2*y])\n",
      "\n",
      "(2*x*y + 1, -1/8*x + 1/2) => 0\n",
      "G: set([x*y - 2*y^2, 2*x*y + 1, -4*y - 1/2, 17/64, -1/8*x + 1/2, y^2 - 2*y])\n",
      "\n",
      "(2*x*y + 1, x*y - 2*y^2) => 0\n",
      "G: set([x*y - 2*y^2, 2*x*y + 1, -4*y - 1/2, 17/64, -1/8*x + 1/2, y^2 - 2*y])\n",
      "\n",
      "(x*y - 2*y^2, 17/64) => 0\n",
      "G: set([x*y - 2*y^2, 2*x*y + 1, -4*y - 1/2, 17/64, -1/8*x + 1/2, y^2 - 2*y])\n",
      "\n",
      "(x*y - 2*y^2, -1/8*x + 1/2) => 0\n",
      "G: set([x*y - 2*y^2, 2*x*y + 1, -4*y - 1/2, 17/64, -1/8*x + 1/2, y^2 - 2*y])\n",
      "\n",
      "(2*x*y + 1, 17/64) => 0\n",
      "G: set([x*y - 2*y^2, 2*x*y + 1, -4*y - 1/2, 17/64, -1/8*x + 1/2, y^2 - 2*y])\n",
      "\n",
      "(y^2 - 2*y, 17/64) => 0\n",
      "G: set([x*y - 2*y^2, 2*x*y + 1, -4*y - 1/2, 17/64, -1/8*x + 1/2, y^2 - 2*y])\n",
      "\n",
      "(y^2 - 2*y, 2*x*y + 1) => 0\n",
      "G: set([x*y - 2*y^2, 2*x*y + 1, -4*y - 1/2, 17/64, -1/8*x + 1/2, y^2 - 2*y])\n",
      "\n",
      "(2*x*y + 1, y^2 - 2*y) => 0\n",
      "G: set([x*y - 2*y^2, 2*x*y + 1, -4*y - 1/2, 17/64, -1/8*x + 1/2, y^2 - 2*y])\n",
      "\n",
      "(y^2 - 2*y, -1/8*x + 1/2) => 0\n",
      "G: set([x*y - 2*y^2, 2*x*y + 1, -4*y - 1/2, 17/64, -1/8*x + 1/2, y^2 - 2*y])\n",
      "\n",
      "(y^2 - 2*y, x*y - 2*y^2) => 0\n",
      "G: set([x*y - 2*y^2, 2*x*y + 1, -4*y - 1/2, 17/64, -1/8*x + 1/2, y^2 - 2*y])\n",
      "\n",
      "(x*y - 2*y^2, y^2 - 2*y) => 0\n",
      "G: set([x*y - 2*y^2, 2*x*y + 1, -4*y - 1/2, 17/64, -1/8*x + 1/2, y^2 - 2*y])\n",
      "\n",
      "15 reductions to zero.\n"
     ]
    },
    {
     "data": {
      "text/plain": [
       "[x*y - 2*y^2, 2*x*y + 1, -4*y - 1/2, 17/64, -1/8*x + 1/2, y^2 - 2*y]"
      ]
     },
     "execution_count": 5,
     "metadata": {},
     "output_type": "execute_result"
    }
   ],
   "source": [
    "f1 = 1 + 2*x*y\n",
    "f2 = -2*y + y^2\n",
    "f3 = -2*y^2+x*y\n",
    "Test_I = ideal(f1,f2,f3)\n",
    "buchberger(Test_I)"
   ]
  },
  {
   "cell_type": "code",
   "execution_count": null,
   "metadata": {
    "collapsed": true
   },
   "outputs": [],
   "source": []
  }
 ],
 "metadata": {
  "kernelspec": {
   "display_name": "SageMath 7.4",
   "language": "",
   "name": "sagemath"
  },
  "language_info": {
   "codemirror_mode": {
    "name": "ipython",
    "version": 2
   },
   "file_extension": ".py",
   "mimetype": "text/x-python",
   "name": "python",
   "nbconvert_exporter": "python",
   "pygments_lexer": "ipython2",
   "version": "2.7.10"
  }
 },
 "nbformat": 4,
 "nbformat_minor": 0
}
