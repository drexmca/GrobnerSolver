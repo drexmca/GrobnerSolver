{
 "cells": [
  {
   "cell_type": "code",
   "execution_count": 3,
   "metadata": {
    "collapsed": false
   },
   "outputs": [
    {
     "name": "stdout",
     "output_type": "stream",
     "text": [
      "Power\n",
      "(2, 2)\n",
      "[[ 0. -0.  0.  0. -0.]\n",
      " [ 0. -0. -0.  1.  0.]\n",
      " [ 0. -0. -2.  0. -0.]\n",
      " [ 0. -0. -0.  0.  0.]\n",
      " [-0. -0. -0. -0. -0.]]\n",
      "(2, 1)\n",
      "[[-0.  0. -0.  0.  0.]\n",
      " [-0. -0.  1.  0.  0.]\n",
      " [ 0. -2. -0. -0.  0.]\n",
      " [ 0. -0.  0. -0. -0.]\n",
      " [-0. -0. -0. -0.  0.]]\n",
      "(1, 2)\n",
      "[[ 0. -0. -0.  1.  0.]\n",
      " [ 0. -0. -2.  0. -0.]\n",
      " [ 0. -0. -0. -0.  0.]\n",
      " [-0. -0. -0.  0.  0.]\n",
      " [-0. -0.  0.  0.  0.]]\n",
      "(2, 0)\n",
      "[[ 0. -0.  0.  0. -0.]\n",
      " [-0.  1.  0.  0. -0.]\n",
      " [-2.  0.  0.  0. -0.]\n",
      " [-0.  0.  0.  0. -0.]\n",
      " [-0. -0. -0. -0.  0.]]\n",
      "(1, 1)\n",
      "[[-0.  0.  1.  0.  0.]\n",
      " [ 0. -2. -0. -0.  0.]\n",
      " [-0. -0. -0. -0.  0.]\n",
      " [-0. -0.  0.  0.  0.]\n",
      " [ 0.  0. -0.  0.  0.]]\n",
      "(0, 2)\n",
      "(1, 0)\n",
      "[[-0.  1.  0.  0. -0.]\n",
      " [-2.  0.  0. -0. -0.]\n",
      " [-0.  0.  0. -0. -0.]\n",
      " [-0.  0.  0. -0. -0.]\n",
      " [ 0.  0.  0. -0. -0.]]\n",
      "(0, 1)\n",
      "(0, 0)\n",
      "['[2 2]' '[1 3]' '[2 1]' '[1 2]' '[0 3]' '[2 0]' '[1 1]' '[0 2]' '[1 0]'\n",
      " '[0 1]' '[0 0]']\n",
      "[[ 0.   0.   0.   0.   0.   0.   2.   0.   0.   0.   1. ]\n",
      " [ 0.   0.   0.   0.   0.   0.   0.  -0.5  0.   0.  -0.5]\n",
      " [ 0.   0.   0.   0.   0.   0.   0.   0.  -2.   1.   0. ]]\n"
     ]
    }
   ],
   "source": [
    "from __future__ import division, print_function\n",
    "import sys, os\n",
    "import numpy as np\n",
    "a = get_ipython().magic(u'pwd')\n",
    "sys.path.append('/'.join(os.path.dirname(os.path.abspath(a)).split('/')))\n",
    "from GrobnerSolver.polys.multi_cheb import MultiCheb\n",
    "from GrobnerSolver.polys.multi_power import MultiPower\n",
    "from GrobnerSolver.polys.grev import GrevlexGen\n",
    "from GrobnerSolver.grobner.grobner import Grobner\n",
    "from GrobnerSolver.grobner import maxheap\n",
    "import pandas as pd\n",
    "from scipy.linalg import lu\n",
    "\n",
    "ggen = GrevlexGen(2,np.array([5,5]))\n",
    "\n",
    "#f0, f1 = y - 2*x, 1+2*x*y\n",
    "\n",
    "a1 = np.array([[0,-2],[1,0]])\n",
    "a2 = np.array([[1,0],[0,2]])\n",
    "\n",
    "c1= MultiPower(a1.T)\n",
    "c2 = MultiPower(a2.T)\n",
    "\n",
    "grob = Grobner([c1,c2])\n",
    "\n",
    "grob.add_s_to_matrix()\n",
    "grob.matrix = grob.matrix.loc[:, (grob.matrix != 0).any(axis=0)]\n",
    "\n",
    "grob.add_r_to_matrix()\n",
    "grob.matrix = grob.matrix.loc[:, (grob.matrix != 0).any(axis=0)]\n",
    "\n",
    "grob_mat = np.flip(grob.matrix.values,axis=1) # Flip due to bad ordering in grevlex generator\n",
    "\n",
    "new_mat_index = grob.matrix.columns.values[::-1]\n",
    "\n",
    "# Put correct order on table\n",
    "ord_mat = grob.matrix[['[2 2]','[1 3]', '[2 1]', '[1 2]','[0 3]', '[2 0]', '[1 1]', '[0 2]','[1 0]', '[0 1]', '[0 0]']]\n",
    "\n",
    "grob_mat = ord_mat.values\n",
    "new_mat_index = ord_mat.columns.values\n",
    "\n",
    "new_mat = np.vstack((grob_mat[3:], grob_mat[:3])) # Put R on top for reduction\n",
    "\n",
    "P,L,U = lu(new_mat)\n",
    "P_argmax = np.argmax(P,axis=0)\n",
    "\n",
    "\n",
    "\n",
    "print(new_mat_index)\n",
    "print(U[-3:])\n",
    "\n",
    "\n"
   ]
  },
  {
   "cell_type": "markdown",
   "metadata": {},
   "source": [
    "The above code corresponds to the groebner basis:\n",
    "\n",
    "2*x*y + 1, -2*x^2 - 1/2, x - 2*y\n",
    "\n",
    "which is correct.\n",
    "\n"
   ]
  },
  {
   "cell_type": "markdown",
   "metadata": {
    "collapsed": true
   },
   "source": [
    "# Questions\n",
    "\n",
    "PLU shapes, which to grab when obviously not square,\n",
    "\n",
    "co-prime deconstruction, condition working?\n",
    "\n",
    "Do I need to order the U matrix by index?\n",
    "\n",
    "So we could redue the matrix and just grab the reduced s's. Your grobner basis is the originals F's and new S's. \n",
    "\n",
    "Do primality check,\n",
    "\n",
    "This may not be reduced Groebner but still Groebner.\n",
    "\n"
   ]
  },
  {
   "cell_type": "markdown",
   "metadata": {
    "collapsed": true
   },
   "source": [
    "# TODO\n",
    "\n",
    "Primality check in code\n",
    "remove pandas"
   ]
  },
  {
   "cell_type": "code",
   "execution_count": null,
   "metadata": {
    "collapsed": true
   },
   "outputs": [],
   "source": []
  },
  {
   "cell_type": "code",
   "execution_count": null,
   "metadata": {
    "collapsed": true
   },
   "outputs": [],
   "source": []
  },
  {
   "cell_type": "code",
   "execution_count": null,
   "metadata": {
    "collapsed": true
   },
   "outputs": [],
   "source": []
  },
  {
   "cell_type": "code",
   "execution_count": null,
   "metadata": {
    "collapsed": true
   },
   "outputs": [],
   "source": []
  },
  {
   "cell_type": "code",
   "execution_count": null,
   "metadata": {
    "collapsed": true
   },
   "outputs": [],
   "source": []
  },
  {
   "cell_type": "code",
   "execution_count": null,
   "metadata": {
    "collapsed": true
   },
   "outputs": [],
   "source": []
  },
  {
   "cell_type": "code",
   "execution_count": null,
   "metadata": {
    "collapsed": true
   },
   "outputs": [],
   "source": []
  },
  {
   "cell_type": "code",
   "execution_count": null,
   "metadata": {
    "collapsed": true
   },
   "outputs": [],
   "source": [
    "\n"
   ]
  }
 ],
 "metadata": {
  "anaconda-cloud": {},
  "kernelspec": {
   "display_name": "Python [conda root]",
   "language": "python",
   "name": "conda-root-py"
  },
  "language_info": {
   "codemirror_mode": {
    "name": "ipython",
    "version": 2
   },
   "file_extension": ".py",
   "mimetype": "text/x-python",
   "name": "python",
   "nbconvert_exporter": "python",
   "pygments_lexer": "ipython2",
   "version": "2.7.13"
  }
 },
 "nbformat": 4,
 "nbformat_minor": 1
}
